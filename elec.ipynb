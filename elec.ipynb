{
 "cells": [
  {
   "cell_type": "markdown",
   "metadata": {},
   "source": [
    "## Importation des bibliotheques necessaires"
   ]
  },
  {
   "cell_type": "code",
   "execution_count": 2,
   "metadata": {},
   "outputs": [],
   "source": [
    "import pandas as pd\n",
    "import matplotlib.pyplot as plt"
   ]
  },
  {
   "cell_type": "markdown",
   "metadata": {},
   "source": [
    "## Creation du DataFrame principal"
   ]
  },
  {
   "cell_type": "code",
   "execution_count": 3,
   "metadata": {},
   "outputs": [],
   "source": [
    "elec = pd.read_csv('donnees_elec_2017.csv', encoding='latin_1', sep = ',')"
   ]
  },
  {
   "cell_type": "code",
   "execution_count": 4,
   "metadata": {},
   "outputs": [
    {
     "output_type": "execute_result",
     "data": {
      "text/plain": "  OPERATEUR  ANNEE FILIERE    TYPE CODE  CONSOA  PDLA  INDQUALA  CONSOI  \\\n0       SRD   2017       E  Region   24       0     0         0       0   \n1       SRD   2017       E  Region   75       0     0         0       0   \n\n     PDLI  ...  Unnamed: 24  Unnamed: 25  Unnamed: 26  Unnamed: 27  \\\n0  900000  ...       500000          0.0          0.0            0   \n1  900000  ...       500000          0.0          0.0            0   \n\n   Unnamed: 28  Unnamed: 29  Unnamed: 30  Unnamed: 31  Unnamed: 32  \\\n0            0            0            0            0          0.0   \n1            0            0            0            0          0.0   \n\n   Unnamed: 33  \n0     500000.0  \n1     500000.0  \n\n[2 rows x 34 columns]",
      "text/html": "<div>\n<style scoped>\n    .dataframe tbody tr th:only-of-type {\n        vertical-align: middle;\n    }\n\n    .dataframe tbody tr th {\n        vertical-align: top;\n    }\n\n    .dataframe thead th {\n        text-align: right;\n    }\n</style>\n<table border=\"1\" class=\"dataframe\">\n  <thead>\n    <tr style=\"text-align: right;\">\n      <th></th>\n      <th>OPERATEUR</th>\n      <th>ANNEE</th>\n      <th>FILIERE</th>\n      <th>TYPE</th>\n      <th>CODE</th>\n      <th>CONSOA</th>\n      <th>PDLA</th>\n      <th>INDQUALA</th>\n      <th>CONSOI</th>\n      <th>PDLI</th>\n      <th>...</th>\n      <th>Unnamed: 24</th>\n      <th>Unnamed: 25</th>\n      <th>Unnamed: 26</th>\n      <th>Unnamed: 27</th>\n      <th>Unnamed: 28</th>\n      <th>Unnamed: 29</th>\n      <th>Unnamed: 30</th>\n      <th>Unnamed: 31</th>\n      <th>Unnamed: 32</th>\n      <th>Unnamed: 33</th>\n    </tr>\n  </thead>\n  <tbody>\n    <tr>\n      <th>0</th>\n      <td>SRD</td>\n      <td>2017</td>\n      <td>E</td>\n      <td>Region</td>\n      <td>24</td>\n      <td>0</td>\n      <td>0</td>\n      <td>0</td>\n      <td>0</td>\n      <td>900000</td>\n      <td>...</td>\n      <td>500000</td>\n      <td>0.0</td>\n      <td>0.0</td>\n      <td>0</td>\n      <td>0</td>\n      <td>0</td>\n      <td>0</td>\n      <td>0</td>\n      <td>0.0</td>\n      <td>500000.0</td>\n    </tr>\n    <tr>\n      <th>1</th>\n      <td>SRD</td>\n      <td>2017</td>\n      <td>E</td>\n      <td>Region</td>\n      <td>75</td>\n      <td>0</td>\n      <td>0</td>\n      <td>0</td>\n      <td>0</td>\n      <td>900000</td>\n      <td>...</td>\n      <td>500000</td>\n      <td>0.0</td>\n      <td>0.0</td>\n      <td>0</td>\n      <td>0</td>\n      <td>0</td>\n      <td>0</td>\n      <td>0</td>\n      <td>0.0</td>\n      <td>500000.0</td>\n    </tr>\n  </tbody>\n</table>\n<p>2 rows × 34 columns</p>\n</div>"
     },
     "metadata": {},
     "execution_count": 4
    }
   ],
   "source": [
    "elec.head(2)"
   ]
  },
  {
   "cell_type": "markdown",
   "metadata": {},
   "source": [
    "## Nous allons nous debarasser des colonnes sans nom puisque nous ne savons pas a quoi ca correspond"
   ]
  },
  {
   "cell_type": "code",
   "execution_count": 5,
   "metadata": {},
   "outputs": [],
   "source": [
    "elec.drop(elec.iloc[:, 22:33], inplace = True, axis = 1)"
   ]
  },
  {
   "cell_type": "code",
   "execution_count": null,
   "metadata": {},
   "outputs": [],
   "source": []
  }
 ],
 "metadata": {
  "language_info": {
   "codemirror_mode": {
    "name": "ipython",
    "version": 3
   },
   "file_extension": ".py",
   "mimetype": "text/x-python",
   "name": "python",
   "nbconvert_exporter": "python",
   "pygments_lexer": "ipython3",
   "version": "3.8.2-final"
  },
  "orig_nbformat": 2,
  "kernelspec": {
   "name": "python38264bitorlyconda9b035401d59c4d17a8107a2364f69f67",
   "display_name": "Python 3.8.2 64-bit ('orly': conda)"
  }
 },
 "nbformat": 4,
 "nbformat_minor": 2
}